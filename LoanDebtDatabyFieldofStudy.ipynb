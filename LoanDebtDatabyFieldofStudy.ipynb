{
  "nbformat": 4,
  "nbformat_minor": 0,
  "metadata": {
    "colab": {
      "name": "LoanDebtDatabyFieldofStudy.ipynb",
      "version": "0.3.2",
      "provenance": [],
      "include_colab_link": true
    },
    "kernelspec": {
      "name": "python3",
      "display_name": "Python 3"
    }
  },
  "cells": [
    {
      "cell_type": "markdown",
      "metadata": {
        "id": "view-in-github",
        "colab_type": "text"
      },
      "source": [
        "<a href=\"https://colab.research.google.com/github/lcommons/lcommons.github.io/blob/master/LoanDebtDatabyFieldofStudy.ipynb\" target=\"_parent\"><img src=\"https://colab.research.google.com/assets/colab-badge.svg\" alt=\"Open In Colab\"/></a>"
      ]
    },
    {
      "cell_type": "markdown",
      "metadata": {
        "id": "YavFKzoUFCYT",
        "colab_type": "text"
      },
      "source": [
        "Analysis of Student Debt data from the U.S. Department of Education.\n",
        "\n",
        "The source data is available at:\n",
        "https://ed-public-download.app.cloud.gov/downloads/Preliminary_Program_Debt_Data.zip\n",
        "\n",
        "Information about the Preliminary Loan Debt Data by Field of Study is at:\n",
        "https://collegescorecard.ed.gov/data/preliminary/\n",
        "\n",
        "This is all part of a broader College Scorecard (). \n",
        "\n",
        "All the data is available at https://collegescorecard.ed.gov/data/\n",
        "\n",
        "This is all part of a larger Department of Education program, https://collegescorecard.ed.gov/"
      ]
    },
    {
      "cell_type": "code",
      "metadata": {
        "id": "sNb6YRd3Eiba",
        "colab_type": "code",
        "colab": {}
      },
      "source": [
        "import pandas as pd\n",
        "import numpy as np\n",
        "import matplotlib.pyplot as plt\n",
        "import seaborn as sns\n",
        "%matplotlib inline"
      ],
      "execution_count": 0,
      "outputs": []
    },
    {
      "cell_type": "code",
      "metadata": {
        "id": "IsPW1h9GK_JU",
        "colab_type": "code",
        "colab": {}
      },
      "source": [
        "\n"
      ],
      "execution_count": 0,
      "outputs": []
    },
    {
      "cell_type": "code",
      "metadata": {
        "id": "-kUtpn8qEqS4",
        "colab_type": "code",
        "colab": {}
      },
      "source": [
        "#from zipfile import ZipFile\n",
        "#from StringIO import StringIO\n",
        "#import urllib2\n",
        "data_url = 'https://ed-public-download.app.cloud.gov/downloads/Preliminary_Program_Debt_Data.zip'\n",
        "zip_file_name = 'Preliminary_Program_Debt_Data.zip'\n",
        "csv_file_name_1 = 'Preliminary_Program_Debt_Data/ProgramDebt1415_1516PP.csv'\n",
        "csv_file_name_2 = 'Preliminary_Program_Debt_Data/ProgramDebt1516_1617PP.csv'\n",
        "#zipfile = urllib2.urlopen(data_url)\n",
        "#file = ZipFile(StringIO(zipfile))\n",
        "#csv_file = file.open(zip_file_name)\n",
        "#data1 = pd.read_csv(csv_file_name_1)\n",
        "#data1.info()"
      ],
      "execution_count": 0,
      "outputs": []
    },
    {
      "cell_type": "code",
      "metadata": {
        "id": "Ayx1CqkzKR0v",
        "colab_type": "code",
        "colab": {}
      },
      "source": [
        "import urllib.request\n",
        "import zipfile\n",
        "\n",
        "urllib.request.urlretrieve(data_url, zip_file_name)\n",
        "compressed_file = zipfile.ZipFile(zip_file_name)\n",
        "csv_file = compressed_file.open(csv_file_name_1)\n",
        "data1 = pd.read_csv(csv_file)"
      ],
      "execution_count": 0,
      "outputs": []
    },
    {
      "cell_type": "code",
      "metadata": {
        "id": "MeU-pyxhNl5v",
        "colab_type": "code",
        "colab": {
          "base_uri": "https://localhost:8080/",
          "height": 312
        },
        "outputId": "12d6fced-6694-4408-cc39-8683102793d5"
      },
      "source": [
        "data1.info()"
      ],
      "execution_count": 11,
      "outputs": [
        {
          "output_type": "stream",
          "text": [
            "<class 'pandas.core.frame.DataFrame'>\n",
            "RangeIndex: 190930 entries, 0 to 190929\n",
            "Data columns (total 12 columns):\n",
            "COHORT        190930 non-null object\n",
            "OPEID         190930 non-null int64\n",
            "NAME          190930 non-null object\n",
            "TYPE          190930 non-null object\n",
            "CIPCODE       190930 non-null int64\n",
            "CIPDESC       190930 non-null object\n",
            "CREDLEV       190930 non-null int64\n",
            "CREDDESC      190930 non-null object\n",
            "COUNT         190930 non-null object\n",
            "DEBTMEDIAN    190930 non-null object\n",
            "DEBTMEAN      190930 non-null object\n",
            "IPEDSCOUNT    178526 non-null float64\n",
            "dtypes: float64(1), int64(3), object(8)\n",
            "memory usage: 17.5+ MB\n"
          ],
          "name": "stdout"
        }
      ]
    },
    {
      "cell_type": "code",
      "metadata": {
        "id": "1z51QzBMOCqI",
        "colab_type": "code",
        "colab": {
          "base_uri": "https://localhost:8080/",
          "height": 1128
        },
        "outputId": "9cb8a31a-ea01-4ce4-d56d-8f759f72eee1"
      },
      "source": [
        "data1.head"
      ],
      "execution_count": 12,
      "outputs": [
        {
          "output_type": "execute_result",
          "data": {
            "text/plain": [
              "<bound method NDFrame.head of            COHORT  OPEID  ...           DEBTMEAN IPEDSCOUNT\n",
              "0       2015_2016   1002  ...  PrivacySuppressed        7.0\n",
              "1       2015_2016   1002  ...  PrivacySuppressed        NaN\n",
              "2       2015_2016   1002  ...  PrivacySuppressed       11.0\n",
              "3       2015_2016   1002  ...  PrivacySuppressed       14.0\n",
              "4       2015_2016   1002  ...              52997       16.0\n",
              "5       2015_2016   1002  ...  PrivacySuppressed        3.0\n",
              "6       2015_2016   1002  ...  PrivacySuppressed        NaN\n",
              "7       2015_2016   1002  ...  PrivacySuppressed        6.0\n",
              "8       2015_2016   1002  ...  PrivacySuppressed       13.0\n",
              "9       2015_2016   1002  ...  PrivacySuppressed        6.0\n",
              "10      2015_2016   1002  ...  PrivacySuppressed        7.0\n",
              "11      2015_2016   1002  ...  PrivacySuppressed        7.0\n",
              "12      2015_2016   1002  ...              63278       19.0\n",
              "13      2015_2016   1002  ...  PrivacySuppressed        2.0\n",
              "14      2015_2016   1002  ...              34065       22.0\n",
              "15      2015_2016   1002  ...              33933       44.0\n",
              "16      2015_2016   1002  ...  PrivacySuppressed       17.0\n",
              "17      2015_2016   1002  ...  PrivacySuppressed        NaN\n",
              "18      2015_2016   1002  ...  PrivacySuppressed        9.0\n",
              "19      2015_2016   1002  ...  PrivacySuppressed       11.0\n",
              "20      2015_2016   1002  ...              33237       26.0\n",
              "21      2015_2016   1002  ...  PrivacySuppressed        8.0\n",
              "22      2015_2016   1002  ...              43778       26.0\n",
              "23      2015_2016   1002  ...              44879       29.0\n",
              "24      2015_2016   1002  ...              33714       50.0\n",
              "25      2015_2016   1002  ...  PrivacySuppressed        2.0\n",
              "26      2015_2016   1002  ...              38266       17.0\n",
              "27      2015_2016   1002  ...              35588       46.0\n",
              "28      2015_2016   1002  ...              39030       36.0\n",
              "29      2015_2016   1002  ...  PrivacySuppressed       13.0\n",
              "...           ...    ...  ...                ...        ...\n",
              "190900  2015_2016  42544  ...              19987       14.0\n",
              "190901  2015_2016  42544  ...  PrivacySuppressed        5.0\n",
              "190902  2015_2016  42544  ...  PrivacySuppressed        1.0\n",
              "190903  2015_2016  42544  ...  PrivacySuppressed       12.0\n",
              "190904  2015_2016  42544  ...              13667        7.0\n",
              "190905  2015_2016  42544  ...  PrivacySuppressed       12.0\n",
              "190906  2015_2016  42544  ...  PrivacySuppressed        7.0\n",
              "190907  2015_2016  42544  ...  PrivacySuppressed        0.0\n",
              "190908  2015_2016  42544  ...              13920       52.0\n",
              "190909  2015_2016  42544  ...  PrivacySuppressed        7.0\n",
              "190910  2015_2016  42544  ...  PrivacySuppressed       14.0\n",
              "190911  2015_2016  42544  ...  PrivacySuppressed        0.0\n",
              "190912  2015_2016  42544  ...  PrivacySuppressed       17.0\n",
              "190913  2015_2016  42544  ...  PrivacySuppressed        0.0\n",
              "190914  2015_2016  42544  ...              18651       15.0\n",
              "190915  2015_2016  42544  ...              17272      135.0\n",
              "190916  2015_2016  42544  ...              23085       29.0\n",
              "190917  2015_2016  42544  ...  PrivacySuppressed       13.0\n",
              "190918  2015_2016  42544  ...  PrivacySuppressed        3.0\n",
              "190919  2015_2016  42544  ...  PrivacySuppressed       12.0\n",
              "190920  2015_2016  42544  ...  PrivacySuppressed        2.0\n",
              "190921  2015_2016  42553  ...  PrivacySuppressed       36.0\n",
              "190922  2015_2016  42555  ...  PrivacySuppressed       11.0\n",
              "190923  2015_2016  42556  ...  PrivacySuppressed      103.0\n",
              "190924  2015_2016  42561  ...  PrivacySuppressed       21.0\n",
              "190925  2015_2016  42562  ...  PrivacySuppressed       13.0\n",
              "190926  2015_2016  42580  ...  PrivacySuppressed       14.0\n",
              "190927  2015_2016  42580  ...  PrivacySuppressed        7.0\n",
              "190928  2015_2016  42580  ...  PrivacySuppressed        8.0\n",
              "190929  2015_2016  42580  ...  PrivacySuppressed        9.0\n",
              "\n",
              "[190930 rows x 12 columns]>"
            ]
          },
          "metadata": {
            "tags": []
          },
          "execution_count": 12
        }
      ]
    },
    {
      "cell_type": "code",
      "metadata": {
        "id": "SDhg05DyOFx4",
        "colab_type": "code",
        "colab": {}
      },
      "source": [
        ""
      ],
      "execution_count": 0,
      "outputs": []
    }
  ]
}